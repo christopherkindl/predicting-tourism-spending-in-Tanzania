{
 "cells": [
  {
   "cell_type": "markdown",
   "metadata": {},
   "source": [
    "# Predicting tourism spending of Tanzania using survey data"
   ]
  },
  {
   "cell_type": "markdown",
   "metadata": {},
   "source": [
    "**Link to github repository with raw data:** https://github.com/christopherkindl/predicting-tourism-spending-in-Tanzania"
   ]
  },
  {
   "cell_type": "markdown",
   "metadata": {},
   "source": [
    "## Table of contents\n",
    "\n",
    "* [0. Setup of environment and import of dependencies](##0.-Setup-of-environment-and-import-of-dependencies)\n",
    "* [1. Introduction](##1.-Introduction)\n",
    "* [2. Data cleaning](##2.-Data-cleaning)\n",
    "* [3. Data exploration](##3.-Data-exploration)\n",
    "* [4. Data preperation for model training](##4.-Data-preperation-for-model-training)\n",
    "* [5. Model selection and training](##5.-Model-selection-and-training)\n",
    "* [6. Conclusion](##6.-Conclusion)"
   ]
  },
  {
   "cell_type": "markdown",
   "metadata": {},
   "source": [
    "**word count:** approx. 1935 words"
   ]
  },
  {
   "cell_type": "markdown",
   "metadata": {},
   "source": [
    "## 0. Setup of environment and import of dependencies"
   ]
  },
  {
   "cell_type": "code",
   "execution_count": 446,
   "metadata": {},
   "outputs": [
    {
     "data": {
      "application/javascript": [
       "IPython.notebook.set_autosave_interval(60000)"
      ]
     },
     "metadata": {},
     "output_type": "display_data"
    },
    {
     "name": "stdout",
     "output_type": "stream",
     "text": [
      "Autosaving every 60 seconds\n"
     ]
    }
   ],
   "source": [
    "# autosave every 60 seconds\n",
    "%autosave 60\n",
    "\n",
    "#display full output in Notebook, instead of only the last result\n",
    "from IPython.core.interactiveshell import InteractiveShell\n",
    "InteractiveShell.ast_node_interactivity = \"all\"\n",
    "\n",
    "#plot pretty figures\n",
    "%matplotlib inline\n",
    "import matplotlib as mpl\n",
    "import matplotlib.pyplot as plt\n",
    "from matplotlib.ticker import PercentFormatter\n",
    "from matplotlib.ticker import MaxNLocator\n",
    "mpl.rc('axes', labelsize=14)\n",
    "mpl.rc('xtick', labelsize=12)\n",
    "mpl.rc('ytick', labelsize=12)\n",
    "\n",
    "#import standard libraries\n",
    "import numpy as np\n",
    "import pandas as pd\n",
    "import os\n",
    "\n",
    "\n",
    "#make this notebook's output stable across runs\n",
    "np.random.seed(42)\n",
    "    \n",
    "#ignore useless warnings (see SciPy issue #5998)\n",
    "import warnings\n",
    "warnings.filterwarnings(action='ignore', message='^internal gelsd')\n",
    "\n",
    "#preprocessing libraries\n",
    "from sklearn.preprocessing import OrdinalEncoder \n",
    "from sklearn.preprocessing import OneHotEncoder\n",
    "from sklearn.compose import ColumnTransformer\n",
    "from sklearn.preprocessing import StandardScaler\n",
    "from sklearn.pipeline import Pipeline\n",
    "from sklearn.model_selection import train_test_split\n",
    "\n",
    "#model libraries\n",
    "from sklearn.linear_model import LinearRegression\n",
    "from sklearn.linear_model import Ridge, Lasso\n",
    "from sklearn.linear_model import SGDRegressor\n",
    "from sklearn.preprocessing import PolynomialFeatures\n",
    "from sklearn.ensemble import RandomForestRegressor\n",
    "from sklearn.svm import SVR\n",
    "from sklearn.model_selection import cross_val_score\n",
    "from sklearn.model_selection import GridSearchCV\n",
    "from sklearn.model_selection import RandomizedSearchCV\n",
    "from sklearn.model_selection import StratifiedShuffleSplit\n",
    "from sklearn.tree import DecisionTreeRegressor\n",
    "from sklearn.ensemble import GradientBoostingRegressor\n",
    "\n",
    "#evaluation libraries\n",
    "from sklearn.metrics import mean_squared_error\n",
    "from sklearn.metrics import mean_absolute_error\n",
    "from sklearn.metrics import r2_score\n",
    "from sklearn.base import clone\n",
    "\n",
    "#store model\n",
    "import pickle"
   ]
  },
  {
   "cell_type": "markdown",
   "metadata": {},
   "source": [
    "## 1. Introduction"
   ]
  },
  {
   "cell_type": "markdown",
   "metadata": {},
   "source": [
    "**Source of data**\n",
    "\n",
    "The dataset was published as part of a hackathon provided by the platform `zindi.africa`. It is based on real-life data that was collected by the National Bureau of Statistics (NBS) in Tanzania. Since the dataset was issued in `early 2020`, it can be considered as up-to-date information of Tanzania's tourism industry.\n",
    "\n",
    "Submissions from other participants for this hackathon challenge are not visible and accessible.\n",
    "\n",
    "Link to the data source: https://zindi.africa/competitions/tanzania-tourism-prediction/data\n",
    "\n",
    "**Goal**\n",
    "\n",
    "The goal of this notebook is to predict the tourism spending based on the data provided by the NBS in Tanzania."
   ]
  },
  {
   "cell_type": "markdown",
   "metadata": {},
   "source": [
    "## 2. Data cleaning"
   ]
  },
  {
   "cell_type": "markdown",
   "metadata": {},
   "source": [
    "**Loading data**\n",
    "\n",
    "The dataset is already split into a train and test dataset. However, since the test dataset does not include the response variable `total expenditure`, it cannot be used for measuring prediction accuracy. However, the train dataset still consists of more than `4,000 records`. Consequently, the test data will be neglected and we treat the train dataset as a complete dataset."
   ]
  },
  {
   "cell_type": "code",
   "execution_count": 441,
   "metadata": {},
   "outputs": [],
   "source": [
    "data_path = os.path.join(project_root_dir, '00_data')\n",
    "\n",
    "raw_data = 'Train.csv'\n",
    "raw_variable_explanations = 'VariableDefinitions.csv'\n",
    "\n",
    "def load_data(data_path, data_type):\n",
    "    csv_path = os.path.join(data_path, data_type)\n",
    "    return pd.read_csv(csv_path)"
   ]
  },
  {
   "cell_type": "code",
   "execution_count": 442,
   "metadata": {},
   "outputs": [],
   "source": [
    "data = load_data(data_path, raw_data)\n",
    "variable_explanations = load_data(data_path, raw_variable_explanations)\n",
    "#data.head(5)\n",
    "#variable_explanations.head(25)"
   ]
  },
  {
   "cell_type": "markdown",
   "metadata": {},
   "source": [
    "**Validate column data types and missing values**\n",
    "\n",
    "Next, we identify missing values and validate the column data types. Since we only want to calculate with numerical data, we convert all categorical columns into numerical ones."
   ]
  },
  {
   "cell_type": "code",
   "execution_count": 443,
   "metadata": {
    "scrolled": true
   },
   "outputs": [
    {
     "name": "stdout",
     "output_type": "stream",
     "text": [
      "Number of incomplete columns: 4\n",
      "Number of incomplete rows: 1349\n",
      "------------------------\n",
      "<class 'pandas.core.frame.DataFrame'>\n",
      "RangeIndex: 4809 entries, 0 to 4808\n",
      "Data columns (total 23 columns):\n",
      " #   Column                 Non-Null Count  Dtype  \n",
      "---  ------                 --------------  -----  \n",
      " 0   ID                     4809 non-null   object \n",
      " 1   country                4809 non-null   object \n",
      " 2   age_group              4809 non-null   object \n",
      " 3   travel_with            3695 non-null   object \n",
      " 4   total_female           4806 non-null   float64\n",
      " 5   total_male             4804 non-null   float64\n",
      " 6   purpose                4809 non-null   object \n",
      " 7   main_activity          4809 non-null   object \n",
      " 8   info_source            4809 non-null   object \n",
      " 9   tour_arrangement       4809 non-null   object \n",
      " 10  package_transport_int  4809 non-null   object \n",
      " 11  package_accomodation   4809 non-null   object \n",
      " 12  package_food           4809 non-null   object \n",
      " 13  package_transport_tz   4809 non-null   object \n",
      " 14  package_sightseeing    4809 non-null   object \n",
      " 15  package_guided_tour    4809 non-null   object \n",
      " 16  package_insurance      4809 non-null   object \n",
      " 17  night_mainland         4809 non-null   float64\n",
      " 18  night_zanzibar         4809 non-null   float64\n",
      " 19  payment_mode           4809 non-null   object \n",
      " 20  first_trip_tz          4809 non-null   object \n",
      " 21  most_impressing        4496 non-null   object \n",
      " 22  total_cost             4809 non-null   float64\n",
      "dtypes: float64(5), object(18)\n",
      "memory usage: 864.2+ KB\n"
     ]
    }
   ],
   "source": [
    "#identify number of columnes with missing value\n",
    "incomplete_columns = data.isna().any(axis=0).sum()\n",
    "print(\"Number of incomplete columns: %d\" % incomplete_columns)\n",
    "\n",
    "#identify number of rows with missing values\n",
    "incomplete_rows = data[data.isna().any(axis=1)]\n",
    "print(\"Number of incomplete rows: %d\" % len(incomplete_rows))\n",
    "\n",
    "print('------------------------')\n",
    "\n",
    "#get general overview of column types and number of non-null values\n",
    "data.info()"
   ]
  },
  {
   "cell_type": "markdown",
   "metadata": {},
   "source": [
    "- **missing values in travel_with**: The number of rows seems to be high. One reason could be that these participants have assumed leaving this field empty would indicate that they did not travel with someone else (even though the answer label `alone` is provided by the questionnaire). We replace empty values in this column with a new category, `None`.\n",
    "\n",
    "\n",
    "- **missing values in total_female and total_male**: Since the number of missing values in these two columns is really small, we drop the corresponding rows.\n",
    "\n",
    "\n",
    "- **missing values in most_impressing**: We replace empty values in this column with a new category, `None`, assuming that participants did not find anything impressing.\n",
    "\n",
    "\n",
    "- **total_cost**: the money amounts in `total_cost` are expressed in Tanzania's local currency, TZS. The highly inflated currency is not only an economic problem, it can also be very challenging to interpret data analyses at this unusual magnitude. This is why we convert it to US-Dollar using the current day course."
   ]
  },
  {
   "cell_type": "code",
   "execution_count": 444,
   "metadata": {
    "scrolled": true
   },
   "outputs": [
    {
     "data": {
      "text/plain": [
       "0        294.0\n",
       "1       1402.0\n",
       "2       1446.0\n",
       "3       3397.0\n",
       "4        723.0\n",
       "         ...  \n",
       "4804    1446.0\n",
       "4805    4662.0\n",
       "4806     980.0\n",
       "4807     506.0\n",
       "4808    5783.0\n",
       "Name: total_cost, Length: 4801, dtype: float64"
      ]
     },
     "execution_count": 444,
     "metadata": {},
     "output_type": "execute_result"
    },
    {
     "name": "stdout",
     "output_type": "stream",
     "text": [
      "<class 'pandas.core.frame.DataFrame'>\n",
      "Int64Index: 4801 entries, 0 to 4808\n",
      "Data columns (total 22 columns):\n",
      " #   Column                 Non-Null Count  Dtype  \n",
      "---  ------                 --------------  -----  \n",
      " 0   country                4801 non-null   object \n",
      " 1   age_group              4801 non-null   object \n",
      " 2   travel_with            4801 non-null   object \n",
      " 3   total_female           4801 non-null   float64\n",
      " 4   total_male             4801 non-null   float64\n",
      " 5   purpose                4801 non-null   object \n",
      " 6   main_activity          4801 non-null   object \n",
      " 7   info_source            4801 non-null   object \n",
      " 8   tour_arrangement       4801 non-null   object \n",
      " 9   package_transport_int  4801 non-null   object \n",
      " 10  package_accomodation   4801 non-null   object \n",
      " 11  package_food           4801 non-null   object \n",
      " 12  package_transport_tz   4801 non-null   object \n",
      " 13  package_sightseeing    4801 non-null   object \n",
      " 14  package_guided_tour    4801 non-null   object \n",
      " 15  package_insurance      4801 non-null   object \n",
      " 16  night_mainland         4801 non-null   float64\n",
      " 17  night_zanzibar         4801 non-null   float64\n",
      " 18  payment_mode           4801 non-null   object \n",
      " 19  first_trip_tz          4801 non-null   object \n",
      " 20  most_impressing        4801 non-null   object \n",
      " 21  total_cost             4801 non-null   float64\n",
      "dtypes: float64(5), object(17)\n",
      "memory usage: 862.7+ KB\n"
     ]
    }
   ],
   "source": [
    "#drop column 'ID' since the sequence is not correct anymore as it got already published as a train dataset\n",
    "data.drop(columns=['ID'], inplace = True)\n",
    "\n",
    "#drop rows with missing values in column total_female and total_male\n",
    "data.dropna(subset=['total_male', 'total_female'], inplace = True)\n",
    "\n",
    "#for empty rows in travel_with and most_impressing columns, fill in with another category, None\n",
    "data.travel_with.fillna('None',inplace=True)\n",
    "data.most_impressing.fillna('None',inplace=True)\n",
    "\n",
    "#change currency to US-Dollar in column total_cost and round to zero decimals\n",
    "exchange_rate = 2293 #22293  TZS/US-Dollar at 1st January 2020, using exchange rate from same period (early 2020) the data was published\n",
    "data['total_cost'] = data['total_cost'] / exchange_rate\n",
    "data['total_cost'].round(0)\n",
    "\n",
    "#revalidate dataset\n",
    "data.info()"
   ]
  },
  {
   "cell_type": "markdown",
   "metadata": {},
   "source": [
    "## 3. Data Exploration"
   ]
  },
  {
   "cell_type": "markdown",
   "metadata": {},
   "source": [
    "**1. Histogram of total costs per record**\n",
    "\n",
    "We first plot a histogram for the target variable `total cost` to get a better unterstanding on how expenditures are distributed across tourists in general."
   ]
  },
  {
   "cell_type": "code",
   "execution_count": 355,
   "metadata": {
    "scrolled": false
   },
   "outputs": [
    {
     "data": {
      "text/plain": [
       "<matplotlib.axes._subplots.AxesSubplot at 0x7f79c7c8c460>"
      ]
     },
     "execution_count": 355,
     "metadata": {},
     "output_type": "execute_result"
    },
    {
     "data": {
      "text/plain": [
       "Text(0.5, 1.0, 'Histogram of total costs, n=4801')"
      ]
     },
     "execution_count": 355,
     "metadata": {},
     "output_type": "execute_result"
    },
    {
     "data": {
      "text/plain": [
       "Text(0.5, 0, 'Total cost (US-Dollar)')"
      ]
     },
     "execution_count": 355,
     "metadata": {},
     "output_type": "execute_result"
    },
    {
     "data": {
      "text/plain": [
       "Text(0, 0.5, 'Frequency')"
      ]
     },
     "execution_count": 355,
     "metadata": {},
     "output_type": "execute_result"
    },
    {
     "data": {
      "text/plain": [
       "(array([-10000.,      0.,  10000.,  20000.,  30000.,  40000.,  50000.]),\n",
       " <a list of 7 Text major ticklabel objects>)"
      ]
     },
     "execution_count": 355,
     "metadata": {},
     "output_type": "execute_result"
    },
    {
     "data": {
      "image/png": "[encoded data removed]",
      "text/plain": [
       "<Figure size 1440x504 with 1 Axes>"
      ]
     },
     "metadata": {
      "needs_background": "light"
     },
     "output_type": "display_data"
    }
   ],
   "source": [
    "#create histogram with 100 bins \n",
    "data['total_cost'].hist(bins=100, figsize=(20,7));\n",
    "plt.title('Histogram of total costs, n='+str(len(data)), \n",
    "          fontweight =\"bold\", fontsize = \"16\"); \n",
    "\n",
    "#label axis\n",
    "plt.xlabel('Total cost (US-Dollar)', weight='bold');\n",
    "plt.ylabel('Frequency',  weight='bold');\n",
    "plt.xticks(fontsize=16, rotation = 45);\n",
    "\n",
    "#increase space between title and plot\n",
    "ax = plt.gca();\n",
    "ttl = ax.title\n",
    "_ = ttl.set_position([.5, 1.05]);\n",
    "\n",
    "#hide grid lines and neglect margin on x-axis\n",
    "plt.grid(False);\n",
    "plt.margins(x=0);\n",
    "\n",
    "#plot chart\n",
    "plt.show(); "
   ]
  },
  {
   "cell_type": "markdown",
   "metadata": {},
   "source": [
    "**Interpretation**\n",
    "\n",
    "We see that the majority of tourists spends less than `5,000 US-Dollars` and that there is long-tail distribution with total costs up to `35,000 US-Dollars`.\n",
    "For the following charts, we differentiate by length of the trip, socio-demographic differences and travel purpose to better understand the distribution of the response variable and identify trends."
   ]
  },
  {
   "cell_type": "code",
   "execution_count": 341,
   "metadata": {},
   "outputs": [
    {
     "data": {
      "text/plain": [
       "total_cost        1.000000\n",
       "total_female      0.276352\n",
       "total_male        0.185951\n",
       "night_zanzibar    0.146839\n",
       "night_mainland    0.020953\n",
       "Name: total_cost, dtype: float64"
      ]
     },
     "execution_count": 341,
     "metadata": {},
     "output_type": "execute_result"
    }
   ],
   "source": [
    "#create correlation matrix for response variable total_cost\n",
    "corr_matrix = data.corr()\n",
    "corr_matrix['total_cost'].sort_values(ascending=False)"
   ]
  },
  {
   "cell_type": "markdown",
   "metadata": {},
   "source": [
    "**2. Total costs by number of travel partner**\n",
    "\n",
    "The two columns, `total_female` and `total_male`, reveil an interesting information about the dataset. It might be that one record **does not represent** the `total_cost` of **one tourist**. Moreover, it could represent the cost related to the survey participant and his/her travel partners together. We combine the two columns `total_female` and `total_male` to get the `number of travel partner` and plot them against `total_cost`."
   ]
  },
  {
   "cell_type": "code",
   "execution_count": 457,
   "metadata": {},
   "outputs": [
    {
     "data": {
      "text/plain": [
       "<Figure size 1440x720 with 0 Axes>"
      ]
     },
     "execution_count": 457,
     "metadata": {},
     "output_type": "execute_result"
    },
    {
     "data": {
      "text/plain": [
       "<matplotlib.collections.PathCollection at 0x7f8e70c16970>"
      ]
     },
     "execution_count": 457,
     "metadata": {},
     "output_type": "execute_result"
    },
    {
     "data": {
      "text/plain": [
       "Text(0.5, 1.0, 'Total costs by number of people, n=4120')"
      ]
     },
     "execution_count": 457,
     "metadata": {},
     "output_type": "execute_result"
    },
    {
     "data": {
      "image/png": "[encoded data removed]",
      "text/plain": [
       "<Figure size 1440x720 with 1 Axes>"
      ]
     },
     "metadata": {
      "needs_background": "light"
     },
     "output_type": "display_data"
    }
   ],
   "source": [
    "#assign columns to variables\n",
    "x = data['total_female'] + data['total_male']\n",
    "y = data['total_cost']\n",
    "\n",
    "#setup chart    \n",
    "plt.figure(figsize = (20, 10));\n",
    "plt.scatter(x, y);\n",
    "plt.title('Total costs by number of people, n='+str(len(data)), weight='bold', fontsize='14');\n",
    "\n",
    "#increase space between title and plot\n",
    "ax = plt.gca(); \n",
    "ttl = ax.title\n",
    "ttl.set_position([.5, 1.05]);\n",
    "\n",
    "#hide grid lines\n",
    "plt.grid(False);\n",
    "\n",
    "#plot chart\n",
    "plt.show()   "
   ]
  },
  {
   "cell_type": "markdown",
   "metadata": {},
   "source": [
    "**Interpretation**\n",
    "\n",
    "The result looks counter-inuitively and there is no clear linear relationship noticeable. Furthermore, the correlation matrix below shows rather a weak than a strong relationship.\n",
    "We use the columns `night_mainland` and `night_zanzibar` to take the `length of stay` into consideration.\n",
    "\n",
    "We split the plots into several subplots, whereby each subplot represents a particular `length of stay` (e.g. 1 day). The `x-axis` represents `number of travel partners` and `y-axis` the `total_cost`. We limit the plot to the days, in which we have a lot of density, namely days `0` to day `15`."
   ]
  },
  {
   "cell_type": "markdown",
   "metadata": {},
   "source": [
    "**3. Total costs by number of travel partners and length of stay**"
   ]
  },
  {
   "cell_type": "code",
   "execution_count": 447,
   "metadata": {
    "scrolled": false
   },
   "outputs": [
    {
     "data": {
      "text/plain": [
       "<Figure size 1296x720 with 0 Axes>"
      ]
     },
     "execution_count": 447,
     "metadata": {},
     "output_type": "execute_result"
    },
    {
     "data": {
      "image/png": "[encoded data removed]",
      "text/plain": [
       "<Figure size 1296x720 with 16 Axes>"
      ]
     },
     "metadata": {
      "needs_background": "light"
     },
     "output_type": "display_data"
    }
   ],
   "source": [
    "#create df copy only for visualization purposes\n",
    "df_copy = data;\n",
    "\n",
    "#create new column to get total stay length\n",
    "df_copy['stay_length'] = df_copy['night_mainland'] + df_copy['night_zanzibar'];\n",
    "df_copy['stay_length'] = df_copy['stay_length'].astype(int);\n",
    "df_copy['total_male'] = df_copy['total_male'].astype(int);\n",
    "df_copy['total_female'] = df_copy['total_female'].astype(int);\n",
    "\n",
    "#create subplot categories\n",
    "stay_length = [i for i in range(0,16)];\n",
    "\n",
    "plt.figure(figsize = (18, 10));\n",
    "\n",
    "for d in stay_length:\n",
    "    x = df_copy[df_copy['stay_length'] == d]['total_female'] + df_copy[df_copy['stay_length'] == d]['total_male'];\n",
    "    y = df_copy[df_copy['stay_length'] == d]['total_cost'];\n",
    "    _ = plt.subplot(4, 4, d + 1);\n",
    "    _ = plt.plot(x, y, 'o');\n",
    "    _ = plt.title('length of stay: ' +str(d), weight='bold');\n",
    "    _ = plt.xlabel('number of travel partners');\n",
    "    _ = plt.tight_layout()\n",
    "\n",
    "    #increase distance between title and plot\n",
    "    ax = plt.gca();\n",
    "    ttl = ax.title;\n",
    "    ttl.set_position([.5, 1.05]);\n",
    "    ax.xaxis.set_major_locator(MaxNLocator(integer=True))\n",
    "    plt.grid(False)\n",
    "\n"
   ]
  },
  {
   "cell_type": "markdown",
   "metadata": {},
   "source": [
    "**Interpretation**\n",
    "\n",
    "Even though differentiating between the `length of stay`, the plots keep showing a weak relationship between `number of travel partners` and `total cost` and a lot of noise remains. It is not possible to say conclusively how the `total_cost` is related to one record in the data set. More detailed information from the publisher is not available. However, given the weak correlation, we assume that `total_cost` **relates to the survery participant and his/her travel partners.**"
   ]
  },
  {
   "cell_type": "markdown",
   "metadata": {},
   "source": [
    "**4. Number of tourists by country**"
   ]
  },
  {
   "cell_type": "code",
   "execution_count": 454,
   "metadata": {},
   "outputs": [
    {
     "data": {
      "image/png": "[encoded data removed]",
      "text/plain": [
       "<Figure size 720x720 with 1 Axes>"
      ]
     },
     "metadata": {
      "needs_background": "light"
     },
     "output_type": "display_data"
    }
   ],
   "source": [
    "#calculate how many times each country appears\n",
    "score = [country for country in data['country'].value_counts()]\n",
    "\n",
    "#get corresponding country name for each score\n",
    "country = [country for country in data['country'].value_counts().index]\n",
    "\n",
    "#plot results by showing the 25 most represented countries\n",
    "tourists_by_country = pd.Series(score, index=country)\n",
    "tourists_by_country.nlargest(25).sort_values().plot(kind='barh', title ='Number of tourists by most represented countries',\n",
    "                                                    figsize = (10, 10));"
   ]
  },
  {
   "cell_type": "markdown",
   "metadata": {},
   "source": [
    "**Interpretation**\n",
    "\n",
    "Countries are not distributed equally with a strong centralisation around a very few dominant countries followed by a `long-tail distribution`. The calculation below states how many times countries appear `less than 10 times`. \n",
    "This insight will be considered when it comes to splitting the data as an unbalanced data set can lead to biased results."
   ]
  },
  {
   "cell_type": "code",
   "execution_count": 453,
   "metadata": {},
   "outputs": [
    {
     "name": "stdout",
     "output_type": "stream",
     "text": [
      "Number of countries that appear less than 10 times: 64\n",
      "Number of rows affected: 178\n"
     ]
    }
   ],
   "source": [
    "#identify countries appear less than 10 times\n",
    "counts = data['country'].value_counts()\n",
    "less_than_10 = data.loc[data['country'].isin(counts.index[counts < 10])]\n",
    "\n",
    "#calculate how many countries appear less than 10 times\n",
    "print('Number of countries that appear less than 10 times:', len(less_than_10['country'].unique()))\n",
    "\n",
    "#calculate how many rows are affected\n",
    "print('Number of rows affected:', len(less_than_10))"
   ]
  },
  {
   "cell_type": "markdown",
   "metadata": {},
   "source": [
    "**5. Average total cost by country**"
   ]
  },
  {
   "cell_type": "markdown",
   "metadata": {},
   "source": [
    "We only consider countries that appear more `than 50 times` to avoid bias (e.g. very high total cost by one tourist whose country only occurs once)."
   ]
  },
  {
   "cell_type": "code",
   "execution_count": 455,
   "metadata": {
    "scrolled": false
   },
   "outputs": [
    {
     "data": {
      "image/png": "[encoded data removed]",
      "text/plain": [
       "<Figure size 720x720 with 1 Axes>"
      ]
     },
     "metadata": {
      "needs_background": "light"
     },
     "output_type": "display_data"
    }
   ],
   "source": [
    "#identify countries that appear more than 50 times\n",
    "counts = data['country'].value_counts()\n",
    "data = data.loc[data['country'].isin(counts.index[counts > 50])]\n",
    "\n",
    "#calculate avg total cost per country that appears more than 50 times\n",
    "country = [country for country in data.groupby('country')['total_cost'].mean().index]\n",
    "avg_total_cost = [country for country in data.groupby('country')['total_cost'].mean()]\n",
    "\n",
    "#plot results by showing the top 25 countries\n",
    "avg_cost_by_country = pd.Series(avg_total_cost, index=country)\n",
    "avg_cost_by_country.nlargest(20).sort_values().plot(kind='barh', title ='Average total cost by country',\n",
    "                                                    figsize = (10, 10));"
   ]
  },
  {
   "cell_type": "markdown",
   "metadata": {},
   "source": [
    "**Interpretation**\n",
    "\n",
    "The `average total costs` by the top countries resonate with their corresponding purchase power. Furthermore, since there is already a wide gap between the top countries noticable (e.g. Burundi with < 1,000 vs. Australia with > 6,000 US-Dollar), this attribute can play a crucial role in terms of feature importance. "
   ]
  },
  {
   "cell_type": "markdown",
   "metadata": {},
   "source": [
    "## 4. Data preperation for model training"
   ]
  },
  {
   "cell_type": "markdown",
   "metadata": {},
   "source": [
    "**Feature creation**"
   ]
  },
  {
   "cell_type": "markdown",
   "metadata": {},
   "source": [
    "We introduce `number of people` (number of travel partners) and `number of nights` (length of stay) as new features since this aggregation makes interpretation more convenient and also reduces the number of features."
   ]
  },
  {
   "cell_type": "code",
   "execution_count": 320,
   "metadata": {},
   "outputs": [],
   "source": [
    "#create new columns for new features\n",
    "data['number_of_people'] = data['total_female'] + data['total_male']\n",
    "data['number_of_nights'] = data['night_mainland'] + data['night_zanzibar']"
   ]
  },
  {
   "cell_type": "code",
   "execution_count": 321,
   "metadata": {},
   "outputs": [],
   "source": [
    "#drop predecessor columns\n",
    "data.drop(columns=['total_male', 'total_female', 'night_mainland', 'night_zanzibar'], inplace = True)"
   ]
  },
  {
   "cell_type": "markdown",
   "metadata": {},
   "source": [
    "**Stratified sampling**\n",
    "\n",
    "Countries which occur less than 100 times will be neglected due to the potential issue raised in the data exploration part. We apply stratified sampling based on `country` to avoid a highly unbalanced dataset."
   ]
  },
  {
   "cell_type": "code",
   "execution_count": 322,
   "metadata": {},
   "outputs": [],
   "source": [
    "#drop countries that occur less than 100 times\n",
    "counts = data['country'].value_counts()\n",
    "data = data.loc[data['country'].isin(counts.index[counts > 100])]"
   ]
  },
  {
   "cell_type": "code",
   "execution_count": 323,
   "metadata": {
    "scrolled": true
   },
   "outputs": [],
   "source": [
    "#add categorical column to country column\n",
    "data['country_num'] = pd.Categorical(data['country'])\n",
    "data['country_num'] = data.country_num.cat.codes"
   ]
  },
  {
   "cell_type": "code",
   "execution_count": 324,
   "metadata": {},
   "outputs": [],
   "source": [
    "#select response variable\n",
    "x = data.drop(columns=['total_cost'], axis=1) \n",
    "y = data['total_cost'].copy()"
   ]
  },
  {
   "cell_type": "code",
   "execution_count": 325,
   "metadata": {},
   "outputs": [],
   "source": [
    "#stratified sampling on country column\n",
    "x_train, x_test, y_train, y_test = train_test_split(x, y, test_size=0.2, random_state=42, stratify=data[['country_num']])"
   ]
  },
  {
   "cell_type": "code",
   "execution_count": 326,
   "metadata": {
    "scrolled": true
   },
   "outputs": [
    {
     "name": "stderr",
     "output_type": "stream",
     "text": [
      "/opt/anaconda/envs/Python3/lib/python3.8/site-packages/pandas/core/frame.py:3990: SettingWithCopyWarning: \n",
      "A value is trying to be set on a copy of a slice from a DataFrame\n",
      "\n",
      "See the caveats in the documentation: https://pandas.pydata.org/pandas-docs/stable/user_guide/indexing.html#returning-a-view-versus-a-copy\n",
      "  return super().drop(\n"
     ]
    }
   ],
   "source": [
    "#drop country_num column\n",
    "data.drop(columns=['country_num'], inplace = True)\n",
    "x.drop(columns=['country_num'], inplace = True)\n",
    "x_train.drop(columns=['country_num'], inplace = True)\n",
    "x_test.drop(columns=['country_num'], inplace = True)"
   ]
  },
  {
   "cell_type": "code",
   "execution_count": 327,
   "metadata": {},
   "outputs": [
    {
     "data": {
      "text/plain": [
       "(3030, 80)"
      ]
     },
     "execution_count": 327,
     "metadata": {},
     "output_type": "execute_result"
    },
    {
     "data": {
      "text/plain": [
       "(758, 80)"
      ]
     },
     "execution_count": 327,
     "metadata": {},
     "output_type": "execute_result"
    }
   ],
   "source": [
    "#split numerical and categorical columns\n",
    "data_num = x.select_dtypes(include=[np.number])\n",
    "data_cat = x.select_dtypes(include=[np.object])\n",
    "\n",
    "#create data pipeline\n",
    "num_pipeline = Pipeline([('std_scaler', StandardScaler())])\n",
    "\n",
    "num_attribs = list(data_num)\n",
    "cat_attribs = list(data_cat)\n",
    "\n",
    "full_pipeline = ColumnTransformer([\n",
    "        ('num', num_pipeline, num_attribs),\n",
    "        ('cat', OneHotEncoder(), cat_attribs), \n",
    "    ])\n",
    "\n",
    "#transform x_train - only transform() for test data as we use the scaling paramaters learned on the train data\n",
    "x_train = full_pipeline.fit_transform(x_train)\n",
    "x_test = full_pipeline.transform(x_test)\n",
    "\n",
    "#check shape\n",
    "x_train.shape\n",
    "x_test.shape"
   ]
  },
  {
   "cell_type": "markdown",
   "metadata": {},
   "source": [
    "## 5. Select and train models"
   ]
  },
  {
   "cell_type": "markdown",
   "metadata": {},
   "source": [
    "**Evaluation metrics**\n",
    "\n",
    "We consider `mean absolute error (MAE)`, `root mean square error (RMSE)`, and `R2` as our metrics of choice since we face a regression problem.\n",
    "\n",
    "**Models**\n",
    "\n",
    "We focus on the models until chapter 5 of the lecture book which are `linear regression`, `polynomial regression` combined with `regularisation` techniques and `SVM regression`."
   ]
  },
  {
   "cell_type": "markdown",
   "metadata": {},
   "source": [
    "**Create function to better output scores**"
   ]
  },
  {
   "cell_type": "code",
   "execution_count": 14,
   "metadata": {},
   "outputs": [],
   "source": [
    "#create function to evaluate model performance on train and test data\n",
    "def evaluate(model, features, labels):\n",
    "    '''\n",
    "    Input trained model, features of the train (test) set and train (test) labels.\n",
    "    Compute MAE, RMSE and R2 score and assign to corresponding list.\n",
    "    Print MAE, RMSE and R2 score.\n",
    "    '''\n",
    "    #compute predictions\n",
    "    predictions = model.predict(features)\n",
    "    \n",
    "    #calculate mean absolute percentage error (MAPE)\n",
    "    errors = abs(predictions - labels)\n",
    "    mape = np.mean(100 * (errors / labels))\n",
    "    accuracy = 100 - mape\n",
    "    \n",
    "    #calculate rmse\n",
    "    mse = mean_squared_error(labels, predictions)\n",
    "    rmse = np.sqrt(mse)\n",
    "    \n",
    "    #calculate mae\n",
    "    mae = mean_absolute_error(labels, predictions)\n",
    "    \n",
    "    #calculate r2 score and convert into percentage format\n",
    "    r2 = r2_score(labels, predictions) * 100\n",
    "\n",
    "    print('Model Performance:')\n",
    "    print('MAE: {:0.2f}'.format(mae))\n",
    "    print('RMSE: {:0.2f}'.format(rmse))\n",
    "    print('R2:', round(r2, 2), '%')"
   ]
  },
  {
   "cell_type": "markdown",
   "metadata": {},
   "source": [
    "### 5a. Linear regression"
   ]
  },
  {
   "cell_type": "markdown",
   "metadata": {},
   "source": [
    "**Model setup**"
   ]
  },
  {
   "cell_type": "code",
   "execution_count": 369,
   "metadata": {},
   "outputs": [
    {
     "data": {
      "text/plain": [
       "LinearRegression()"
      ]
     },
     "execution_count": 369,
     "metadata": {},
     "output_type": "execute_result"
    }
   ],
   "source": [
    "#create linear regression model\n",
    "lin_reg = LinearRegression()\n",
    "lin_reg.fit(x_train, y_train)"
   ]
  },
  {
   "cell_type": "markdown",
   "metadata": {},
   "source": [
    "**Evaluation**"
   ]
  },
  {
   "cell_type": "code",
   "execution_count": 370,
   "metadata": {
    "scrolled": true
   },
   "outputs": [
    {
     "name": "stdout",
     "output_type": "stream",
     "text": [
      "Model Performance:\n",
      "MAE: 2665.60\n",
      "RMSE: 4326.73\n",
      "R2: 39.35 %\n",
      "Model Performance:\n",
      "MAE: 2670.61\n",
      "RMSE: 4425.04\n",
      "R2: 31.58 %\n"
     ]
    }
   ],
   "source": [
    "#evaluate on train data\n",
    "evaluate(lin_reg, x_train, y_train)\n",
    "\n",
    "#evaluate on test data\n",
    "evaluate(lin_reg, x_test, y_test)"
   ]
  },
  {
   "cell_type": "markdown",
   "metadata": {},
   "source": [
    "**Feature importance**"
   ]
  },
  {
   "cell_type": "code",
   "execution_count": 410,
   "metadata": {},
   "outputs": [
    {
     "data": {
      "image/png": "[encoded data removed]",
      "text/plain": [
       "<Figure size 432x288 with 1 Axes>"
      ]
     },
     "metadata": {
      "needs_background": "light"
     },
     "output_type": "display_data"
    }
   ],
   "source": [
    "#assign back attribute names to encoded features\n",
    "cat_encoder = full_pipeline.named_transformers_['cat']\n",
    "cat_hot_attribs = list(cat_encoder.categories_)\n",
    "cat_one_hot_attribs = [str(cat_attribs[index]) + '_' + category for index,categories in enumerate(cat_hot_attribs) for category in categories]\n",
    "attributes = num_attribs + cat_one_hot_attribs\n",
    "\n",
    "#compute feature importance\n",
    "coefficients = lin_reg.coef_\n",
    "feature_importance = sorted(zip(coefficients, attributes), reverse=True)\n",
    "weight, attribute = zip(*feature_importance)\n",
    "\n",
    "#plot feature importance\n",
    "feat_importances = pd.Series(weight, index=attribute)\n",
    "feat_importances.nlargest(10).sort_values().plot(kind='barh', title ='Feature importance');"
   ]
  },
  {
   "cell_type": "markdown",
   "metadata": {},
   "source": [
    "**Interpretation**"
   ]
  },
  {
   "cell_type": "markdown",
   "metadata": {},
   "source": [
    "The simple regression model can moderately fit the data. `RMSE` is relatively high considering that most tourists spend between 1,000 and 15,000 US-Dollars. This also shows that the data does not follow a strict linear problem."
   ]
  },
  {
   "cell_type": "markdown",
   "metadata": {},
   "source": [
    "### 5b. Polynomial regression"
   ]
  },
  {
   "cell_type": "markdown",
   "metadata": {},
   "source": [
    "We introduce polynominal features to the linear regression model to better capture the non-linearity of data. We train the model with an initial range of up to `4 degrees`. We avoid using cross-validation on the train data since the large size of new columns caused by polynomial features will make it very computational expensive (see formula `(n+d)!/d!n!` where `n` is the number of observations and `d` the degree). Consequently, the performance is always directly compared with the test data to spot overfitting problems. "
   ]
  },
  {
   "cell_type": "code",
   "execution_count": 422,
   "metadata": {
    "scrolled": false
   },
   "outputs": [
    {
     "data": {
      "text/plain": [
       "LinearRegression()"
      ]
     },
     "execution_count": 422,
     "metadata": {},
     "output_type": "execute_result"
    },
    {
     "name": "stdout",
     "output_type": "stream",
     "text": [
      "-----------------------------------\n",
      "Degree of polynomial regression: 1\n",
      "Train evaluation\n",
      "Model Performance:\n",
      "MAE: 2665.60\n",
      "RMSE: 4326.73\n",
      "R2: 39.35 %\n",
      "---------------\n",
      "Test evaluation\n",
      "Model Performance:\n",
      "MAE: 2670.61\n",
      "RMSE: 4425.04\n",
      "R2: 31.58 %\n"
     ]
    },
    {
     "data": {
      "text/plain": [
       "LinearRegression()"
      ]
     },
     "execution_count": 422,
     "metadata": {},
     "output_type": "execute_result"
    },
    {
     "name": "stdout",
     "output_type": "stream",
     "text": [
      "-----------------------------------\n",
      "Degree of polynomial regression: 2\n",
      "Train evaluation\n",
      "Model Performance:\n",
      "MAE: 1776.13\n",
      "RMSE: 2871.83\n",
      "R2: 73.28 %\n",
      "---------------\n",
      "Test evaluation\n",
      "Model Performance:\n",
      "MAE: 5630.56\n",
      "RMSE: 11592.46\n",
      "R2: -369.58 %\n"
     ]
    },
    {
     "data": {
      "text/plain": [
       "LinearRegression()"
      ]
     },
     "execution_count": 422,
     "metadata": {},
     "output_type": "execute_result"
    },
    {
     "name": "stdout",
     "output_type": "stream",
     "text": [
      "-----------------------------------\n",
      "Degree of polynomial regression: 3\n",
      "Train evaluation\n",
      "Model Performance:\n",
      "MAE: 91.90\n",
      "RMSE: 659.37\n",
      "R2: 98.59 %\n",
      "---------------\n",
      "Test evaluation\n",
      "Model Performance:\n",
      "MAE: 40750.13\n",
      "RMSE: 116733.40\n",
      "R2: -47515.49 %\n"
     ]
    },
    {
     "data": {
      "text/plain": [
       "LinearRegression()"
      ]
     },
     "execution_count": 422,
     "metadata": {},
     "output_type": "execute_result"
    },
    {
     "name": "stdout",
     "output_type": "stream",
     "text": [
      "-----------------------------------\n",
      "Degree of polynomial regression: 4\n",
      "Train evaluation\n",
      "Model Performance:\n",
      "MAE: 151.77\n",
      "RMSE: 707.18\n",
      "R2: 98.38 %\n",
      "---------------\n",
      "Test evaluation\n",
      "Model Performance:\n",
      "MAE: 11327.64\n",
      "RMSE: 67646.04\n",
      "R2: -15889.79 %\n"
     ]
    }
   ],
   "source": [
    "#create list to collect every RMSE score for plotting them later\n",
    "rmse_train = []\n",
    "rmse_test = []\n",
    "\n",
    "#initial degrees to be used\n",
    "degrees = [1, 2, 3, 4] \n",
    "\n",
    "for degree in degrees:\n",
    "    #create polynomial features\n",
    "    poly_features = PolynomialFeatures(degree=degree)\n",
    "    \n",
    "    #fit data\n",
    "    x_train_poly = poly_features.fit_transform(x_train)\n",
    "    x_test_poly = poly_features.transform(x_test)\n",
    "    \n",
    "    #create linear regression model and fit\n",
    "    poly_reg = LinearRegression()\n",
    "    poly_reg.fit(x_train_poly, y_train)\n",
    "       \n",
    "    #store model locally\n",
    "    pkl_filename = 'poly_regression_model_degree_' + str(degree) + '.pkl'  \n",
    "\n",
    "    with open(pkl_filename, 'wb') as file:  \n",
    "        pickle.dump(poly_reg, file)\n",
    "    \n",
    "    #evaluate on train and test data\n",
    "    print('-----------------------------------')\n",
    "    print('Degree of polynomial regression: %d' %degree)\n",
    "    print('Train evaluation')\n",
    "    evaluate(poly_reg, x_train_poly, y_train)\n",
    "    print('---------------')\n",
    "    print('Test evaluation')\n",
    "    evaluate(poly_reg, x_test_poly, y_test)\n",
    "    \n",
    "    #compute predictions for visualisation\n",
    "    train_predictions = poly_reg.predict(x_train_poly)\n",
    "    test_predictions = poly_reg.predict(x_test_poly)\n",
    "    \n",
    "    #collect rmse scores for visualisation\n",
    "    rmse_train.append(np.sqrt(mean_squared_error(y_train, train_predictions)))\n",
    "    rmse_test.append(np.sqrt(mean_squared_error(y_test, test_predictions)))"
   ]
  },
  {
   "cell_type": "markdown",
   "metadata": {},
   "source": [
    "**Interpretation**"
   ]
  },
  {
   "cell_type": "markdown",
   "metadata": {},
   "source": [
    "The `3-degree` model scores optimal values, `MAE: 91.90`, `RMSE: 659.37`, `R2: 98.59%`. Interestingly, in the `4-degree` model, the scores already start to get worse. This might indicate that the model is already too complex even for the train data.\n",
    "However, high-degree models are also prone to overfitting due to their many parameters that try to precisely fit the train data. This is shown in evaluation scores from the test data."
   ]
  },
  {
   "cell_type": "markdown",
   "metadata": {},
   "source": [
    "### 5c. Polynomial regression with regularisation"
   ]
  },
  {
   "cell_type": "markdown",
   "metadata": {},
   "source": [
    "We use regularisation to anticipate the overfitting problems. We apply both `ridge` and `lasso` regression that scored best on train data, which is the 3-degree model. We use a `small range` of reasonable `regularisation weights`, $\\alpha$, to not overheat the computation. However, if the optimal weight lies at the `boundary` of the range, we will expand the range to obtain an even more optimised $\\alpha$ value.\n",
    "\n",
    "Again, we evaluate the trained model directly against the test data to avoid computational expensive cross-validation runs on a high-degree model."
   ]
  },
  {
   "cell_type": "markdown",
   "metadata": {},
   "source": [
    "**Ridge regression**"
   ]
  },
  {
   "cell_type": "code",
   "execution_count": 465,
   "metadata": {
    "scrolled": true
   },
   "outputs": [
    {
     "data": {
      "text/plain": [
       "Ridge(alpha=1)"
      ]
     },
     "execution_count": 465,
     "metadata": {},
     "output_type": "execute_result"
    },
    {
     "name": "stdout",
     "output_type": "stream",
     "text": [
      "-----------------------------------\n",
      "Train evaluation\n",
      "Model Performance:\n",
      "MAE: 316.76\n",
      "RMSE: 1042.04\n",
      "R2: 96.48 %\n",
      "Test evaluation\n",
      "Model Performance:\n",
      "MAE: 4570.44\n",
      "RMSE: 7921.66\n",
      "R2: -119.28 %\n"
     ]
    },
    {
     "data": {
      "text/plain": [
       "Ridge(alpha=26)"
      ]
     },
     "execution_count": 465,
     "metadata": {},
     "output_type": "execute_result"
    },
    {
     "name": "stdout",
     "output_type": "stream",
     "text": [
      "-----------------------------------\n",
      "Train evaluation\n",
      "Model Performance:\n",
      "MAE: 993.21\n",
      "RMSE: 1883.27\n",
      "R2: 88.51 %\n",
      "Test evaluation\n",
      "Model Performance:\n",
      "MAE: 3088.10\n",
      "RMSE: 5423.42\n",
      "R2: -2.78 %\n"
     ]
    },
    {
     "data": {
      "text/plain": [
       "Ridge(alpha=51)"
      ]
     },
     "execution_count": 465,
     "metadata": {},
     "output_type": "execute_result"
    },
    {
     "name": "stdout",
     "output_type": "stream",
     "text": [
      "-----------------------------------\n",
      "Train evaluation\n",
      "Model Performance:\n",
      "MAE: 1185.27\n",
      "RMSE: 2152.07\n",
      "R2: 85.0 %\n",
      "Test evaluation\n",
      "Model Performance:\n",
      "MAE: 2911.44\n",
      "RMSE: 5147.58\n",
      "R2: 7.41 %\n"
     ]
    },
    {
     "data": {
      "text/plain": [
       "Ridge(alpha=76)"
      ]
     },
     "execution_count": 465,
     "metadata": {},
     "output_type": "execute_result"
    },
    {
     "name": "stdout",
     "output_type": "stream",
     "text": [
      "-----------------------------------\n",
      "Train evaluation\n",
      "Model Performance:\n",
      "MAE: 1297.64\n",
      "RMSE: 2317.92\n",
      "R2: 82.59 %\n",
      "Test evaluation\n",
      "Model Performance:\n",
      "MAE: 2816.94\n",
      "RMSE: 4996.78\n",
      "R2: 12.76 %\n"
     ]
    },
    {
     "data": {
      "text/plain": [
       "Ridge(alpha=101)"
      ]
     },
     "execution_count": 465,
     "metadata": {},
     "output_type": "execute_result"
    },
    {
     "name": "stdout",
     "output_type": "stream",
     "text": [
      "-----------------------------------\n",
      "Train evaluation\n",
      "Model Performance:\n",
      "MAE: 1375.03\n",
      "RMSE: 2437.39\n",
      "R2: 80.75 %\n",
      "Test evaluation\n",
      "Model Performance:\n",
      "MAE: 2756.82\n",
      "RMSE: 4899.17\n",
      "R2: 16.13 %\n"
     ]
    },
    {
     "data": {
      "text/plain": [
       "Ridge(alpha=126)"
      ]
     },
     "execution_count": 465,
     "metadata": {},
     "output_type": "execute_result"
    },
    {
     "name": "stdout",
     "output_type": "stream",
     "text": [
      "-----------------------------------\n",
      "Train evaluation\n",
      "Model Performance:\n",
      "MAE: 1433.65\n",
      "RMSE: 2530.31\n",
      "R2: 79.26 %\n",
      "Test evaluation\n",
      "Model Performance:\n",
      "MAE: 2713.29\n",
      "RMSE: 4829.76\n",
      "R2: 18.49 %\n"
     ]
    },
    {
     "data": {
      "text/plain": [
       "Ridge(alpha=151)"
      ]
     },
     "execution_count": 465,
     "metadata": {},
     "output_type": "execute_result"
    },
    {
     "name": "stdout",
     "output_type": "stream",
     "text": [
      "-----------------------------------\n",
      "Train evaluation\n",
      "Model Performance:\n",
      "MAE: 1480.40\n",
      "RMSE: 2606.06\n",
      "R2: 78.0 %\n",
      "Test evaluation\n",
      "Model Performance:\n",
      "MAE: 2680.64\n",
      "RMSE: 4777.09\n",
      "R2: 20.26 %\n"
     ]
    },
    {
     "data": {
      "text/plain": [
       "Ridge(alpha=176)"
      ]
     },
     "execution_count": 465,
     "metadata": {},
     "output_type": "execute_result"
    },
    {
     "name": "stdout",
     "output_type": "stream",
     "text": [
      "-----------------------------------\n",
      "Train evaluation\n",
      "Model Performance:\n",
      "MAE: 1518.73\n",
      "RMSE: 2669.81\n",
      "R2: 76.91 %\n",
      "Test evaluation\n",
      "Model Performance:\n",
      "MAE: 2652.64\n",
      "RMSE: 4736.18\n",
      "R2: 21.62 %\n"
     ]
    },
    {
     "data": {
      "text/plain": [
       "Ridge(alpha=201)"
      ]
     },
     "execution_count": 465,
     "metadata": {},
     "output_type": "execute_result"
    },
    {
     "name": "stdout",
     "output_type": "stream",
     "text": [
      "-----------------------------------\n",
      "Train evaluation\n",
      "Model Performance:\n",
      "MAE: 1551.28\n",
      "RMSE: 2724.71\n",
      "R2: 75.95 %\n",
      "Test evaluation\n",
      "Model Performance:\n",
      "MAE: 2629.18\n",
      "RMSE: 4703.43\n",
      "R2: 22.7 %\n"
     ]
    },
    {
     "data": {
      "text/plain": [
       "Ridge(alpha=226)"
      ]
     },
     "execution_count": 465,
     "metadata": {},
     "output_type": "execute_result"
    },
    {
     "name": "stdout",
     "output_type": "stream",
     "text": [
      "-----------------------------------\n",
      "Train evaluation\n",
      "Model Performance:\n",
      "MAE: 1579.20\n",
      "RMSE: 2772.82\n",
      "R2: 75.09 %\n",
      "Test evaluation\n",
      "Model Performance:\n",
      "MAE: 2608.16\n",
      "RMSE: 4676.20\n",
      "R2: 23.59 %\n"
     ]
    },
    {
     "data": {
      "text/plain": [
       "Ridge(alpha=251)"
      ]
     },
     "execution_count": 465,
     "metadata": {},
     "output_type": "execute_result"
    },
    {
     "name": "stdout",
     "output_type": "stream",
     "text": [
      "-----------------------------------\n",
      "Train evaluation\n",
      "Model Performance:\n",
      "MAE: 1603.58\n",
      "RMSE: 2815.57\n",
      "R2: 74.32 %\n",
      "Test evaluation\n",
      "Model Performance:\n",
      "MAE: 2590.22\n",
      "RMSE: 4653.34\n",
      "R2: 24.34 %\n"
     ]
    },
    {
     "data": {
      "text/plain": [
       "Ridge(alpha=276)"
      ]
     },
     "execution_count": 465,
     "metadata": {},
     "output_type": "execute_result"
    },
    {
     "name": "stdout",
     "output_type": "stream",
     "text": [
      "-----------------------------------\n",
      "Train evaluation\n",
      "Model Performance:\n",
      "MAE: 1625.28\n",
      "RMSE: 2853.99\n",
      "R2: 73.61 %\n",
      "Test evaluation\n",
      "Model Performance:\n",
      "MAE: 2573.24\n",
      "RMSE: 4633.19\n",
      "R2: 24.99 %\n"
     ]
    },
    {
     "data": {
      "text/plain": [
       "Ridge(alpha=301)"
      ]
     },
     "execution_count": 465,
     "metadata": {},
     "output_type": "execute_result"
    },
    {
     "name": "stdout",
     "output_type": "stream",
     "text": [
      "-----------------------------------\n",
      "Train evaluation\n",
      "Model Performance:\n",
      "MAE: 1644.73\n",
      "RMSE: 2888.83\n",
      "R2: 72.96 %\n",
      "Test evaluation\n",
      "Model Performance:\n",
      "MAE: 2558.39\n",
      "RMSE: 4615.85\n",
      "R2: 25.55 %\n"
     ]
    },
    {
     "data": {
      "text/plain": [
       "Ridge(alpha=326)"
      ]
     },
     "execution_count": 465,
     "metadata": {},
     "output_type": "execute_result"
    },
    {
     "name": "stdout",
     "output_type": "stream",
     "text": [
      "-----------------------------------\n",
      "Train evaluation\n",
      "Model Performance:\n",
      "MAE: 1662.35\n",
      "RMSE: 2920.66\n",
      "R2: 72.36 %\n",
      "Test evaluation\n",
      "Model Performance:\n",
      "MAE: 2544.71\n",
      "RMSE: 4600.24\n",
      "R2: 26.05 %\n"
     ]
    },
    {
     "data": {
      "text/plain": [
       "Ridge(alpha=351)"
      ]
     },
     "execution_count": 465,
     "metadata": {},
     "output_type": "execute_result"
    },
    {
     "name": "stdout",
     "output_type": "stream",
     "text": [
      "-----------------------------------\n",
      "Train evaluation\n",
      "Model Performance:\n",
      "MAE: 1678.60\n",
      "RMSE: 2949.93\n",
      "R2: 71.81 %\n",
      "Test evaluation\n",
      "Model Performance:\n",
      "MAE: 2532.44\n",
      "RMSE: 4586.62\n",
      "R2: 26.49 %\n"
     ]
    },
    {
     "data": {
      "text/plain": [
       "Ridge(alpha=376)"
      ]
     },
     "execution_count": 465,
     "metadata": {},
     "output_type": "execute_result"
    },
    {
     "name": "stdout",
     "output_type": "stream",
     "text": [
      "-----------------------------------\n",
      "Train evaluation\n",
      "Model Performance:\n",
      "MAE: 1693.35\n",
      "RMSE: 2977.02\n",
      "R2: 71.29 %\n",
      "Test evaluation\n",
      "Model Performance:\n",
      "MAE: 2521.35\n",
      "RMSE: 4574.24\n",
      "R2: 26.89 %\n"
     ]
    },
    {
     "data": {
      "text/plain": [
       "Ridge(alpha=401)"
      ]
     },
     "execution_count": 465,
     "metadata": {},
     "output_type": "execute_result"
    },
    {
     "name": "stdout",
     "output_type": "stream",
     "text": [
      "-----------------------------------\n",
      "Train evaluation\n",
      "Model Performance:\n",
      "MAE: 1706.98\n",
      "RMSE: 3002.19\n",
      "R2: 70.8 %\n",
      "Test evaluation\n",
      "Model Performance:\n",
      "MAE: 2510.53\n",
      "RMSE: 4562.31\n",
      "R2: 27.27 %\n"
     ]
    },
    {
     "data": {
      "text/plain": [
       "Ridge(alpha=426)"
      ]
     },
     "execution_count": 465,
     "metadata": {},
     "output_type": "execute_result"
    },
    {
     "name": "stdout",
     "output_type": "stream",
     "text": [
      "-----------------------------------\n",
      "Train evaluation\n",
      "Model Performance:\n",
      "MAE: 1719.41\n",
      "RMSE: 3025.69\n",
      "R2: 70.34 %\n",
      "Test evaluation\n",
      "Model Performance:\n",
      "MAE: 2500.79\n",
      "RMSE: 4551.80\n",
      "R2: 27.6 %\n"
     ]
    },
    {
     "data": {
      "text/plain": [
       "Ridge(alpha=451)"
      ]
     },
     "execution_count": 465,
     "metadata": {},
     "output_type": "execute_result"
    },
    {
     "name": "stdout",
     "output_type": "stream",
     "text": [
      "-----------------------------------\n",
      "Train evaluation\n",
      "Model Performance:\n",
      "MAE: 1731.00\n",
      "RMSE: 3047.70\n",
      "R2: 69.91 %\n",
      "Test evaluation\n",
      "Model Performance:\n",
      "MAE: 2492.03\n",
      "RMSE: 4542.14\n",
      "R2: 27.91 %\n"
     ]
    },
    {
     "data": {
      "text/plain": [
       "Ridge(alpha=476)"
      ]
     },
     "execution_count": 465,
     "metadata": {},
     "output_type": "execute_result"
    },
    {
     "name": "stdout",
     "output_type": "stream",
     "text": [
      "-----------------------------------\n",
      "Train evaluation\n",
      "Model Performance:\n",
      "MAE: 1741.56\n",
      "RMSE: 3068.41\n",
      "R2: 69.5 %\n",
      "Test evaluation\n",
      "Model Performance:\n",
      "MAE: 2484.59\n",
      "RMSE: 4533.52\n",
      "R2: 28.18 %\n"
     ]
    },
    {
     "data": {
      "text/plain": [
       "Ridge(alpha=501)"
      ]
     },
     "execution_count": 465,
     "metadata": {},
     "output_type": "execute_result"
    },
    {
     "name": "stdout",
     "output_type": "stream",
     "text": [
      "-----------------------------------\n",
      "Train evaluation\n",
      "Model Performance:\n",
      "MAE: 1751.76\n",
      "RMSE: 3087.94\n",
      "R2: 69.11 %\n",
      "Test evaluation\n",
      "Model Performance:\n",
      "MAE: 2477.58\n",
      "RMSE: 4525.19\n",
      "R2: 28.45 %\n"
     ]
    },
    {
     "data": {
      "text/plain": [
       "Ridge(alpha=526)"
      ]
     },
     "execution_count": 465,
     "metadata": {},
     "output_type": "execute_result"
    },
    {
     "name": "stdout",
     "output_type": "stream",
     "text": [
      "-----------------------------------\n",
      "Train evaluation\n",
      "Model Performance:\n",
      "MAE: 1761.13\n",
      "RMSE: 3106.40\n",
      "R2: 68.74 %\n",
      "Test evaluation\n",
      "Model Performance:\n",
      "MAE: 2471.32\n",
      "RMSE: 4517.13\n",
      "R2: 28.7 %\n"
     ]
    }
   ],
   "source": [
    "#create list to collect every RMSE score for plotting\n",
    "rmse_train = []\n",
    "rmse_test = []\n",
    "\n",
    "#create list of alpha values for regularisation weight\n",
    "alpha_values = [i for i in range(1, 550, 25)]\n",
    "\n",
    "#create polynomial features\n",
    "poly_features = PolynomialFeatures(degree=3)\n",
    "    \n",
    "#fit data\n",
    "x_train_poly = poly_features.fit_transform(x_train)\n",
    "x_test_poly = poly_features.transform(x_test)\n",
    "\n",
    "\n",
    "for alpha in alpha_values:\n",
    "    \n",
    "    #create ridge regression with corresponding alpha value\n",
    "    poly_ridge = Ridge(alpha=alpha)\n",
    "    poly_ridge.fit(x_train_poly, y_train)\n",
    "        \n",
    "    #store model locally\n",
    "    pkl_filename = 'poly_ridge_regression_model_degree_3_' + str(alpha) + '.pkl'  \n",
    "\n",
    "    with open(pkl_filename, 'wb') as file:  \n",
    "        pickle.dump(poly_ridge, file)\n",
    "    \n",
    "    #evaluate on train and test data\n",
    "    print('-----------------------------------')\n",
    "    print('Train evaluation')\n",
    "    evaluate(poly_ridge, x_train_poly, y_train)\n",
    "    print('Test evaluation')\n",
    "    evaluate(poly_ridge, x_test_poly, y_test)\n",
    "    \n",
    "    #compute prediction for visualisation\n",
    "    train_predictions = poly_ridge.predict(x_train_poly)\n",
    "    test_predictions = poly_ridge.predict(x_test_poly)\n",
    "    \n",
    "    #collect RMSE score for visualisation\n",
    "    rmse_train.append(np.sqrt(mean_squared_error(y_train, train_predictions)))\n",
    "    rmse_test.append(np.sqrt(mean_squared_error(y_test, test_predictions)))"
   ]
  },
  {
   "cell_type": "code",
   "execution_count": 368,
   "metadata": {
    "scrolled": true
   },
   "outputs": [
    {
     "data": {
      "text/plain": [
       "78"
      ]
     },
     "execution_count": 368,
     "metadata": {},
     "output_type": "execute_result"
    }
   ],
   "source": [
    "#feature importance\n",
    "cat_encoder = full_pipeline.named_transformers_['cat']\n",
    "cat_one_hot_attribs = list(cat_encoder.categories_)\n",
    "attributes = [category for categories in cat_one_hot_attribs for category in categories]"
   ]
  },
  {
   "cell_type": "markdown",
   "metadata": {},
   "source": [
    "**Visualised results**"
   ]
  },
  {
   "cell_type": "code",
   "execution_count": 466,
   "metadata": {
    "scrolled": false
   },
   "outputs": [
    {
     "data": {
      "image/png": "[encoded data removed]",
      "text/plain": [
       "<Figure size 576x360 with 1 Axes>"
      ]
     },
     "metadata": {
      "needs_background": "light"
     },
     "output_type": "display_data"
    }
   ],
   "source": [
    "#plot RMSE scores against corresponding alpha value\n",
    "fig, ax = plt.subplots(figsize = (8,5));\n",
    "ax.plot(alpha_values, rmse_train, label=\"Training error\");\n",
    "ax.plot(alpha_values, rmse_test, label=\"Testing error\");\n",
    "plt.xlabel(\"$Alpha$\", fontsize=18);\n",
    "plt.ylabel(\"$RMSE$\", fontsize=18);\n",
    "plt.title(\"RMSE scores\", fontsize=18);\n",
    "ax.legend();\n",
    "plt.show();"
   ]
  },
  {
   "cell_type": "markdown",
   "metadata": {},
   "source": [
    "**Interpretation**"
   ]
  },
  {
   "cell_type": "markdown",
   "metadata": {},
   "source": [
    "As $\\alpha$ increases, the test `testing error` (RMSE score) decreases drastically, which shows that the regularisation works. Furthermore, the plot shows that the `testing error` reaches a plateaus after a certain $\\alpha$ value. After this point, a larger $\\alpha$ does not improve the `testing error`. Simultaneously, the `training error` increases for every larger $\\alpha$ value, which means the model gains bias and start to underfit. The calculation below identifies the optimal $\\alpha$ value and shows the corresponding testing error. Feature importance is also shown."
   ]
  },
  {
   "cell_type": "code",
   "execution_count": 473,
   "metadata": {},
   "outputs": [
    {
     "name": "stdout",
     "output_type": "stream",
     "text": [
      "Optimal alpha value: 526\n",
      "Best RMSE score on test data: 4517\n"
     ]
    }
   ],
   "source": [
    "#identify index of smallest RMSE score\n",
    "min_rmse_test = np.array(np.where(rmse_test == min(rmse_test)))\n",
    "\n",
    "#identify optimal alpha value by using previous index position\n",
    "optimal_alpha = alpha_values[int(min_rmse_test)]\n",
    "print('Optimal alpha value: %d' %optimal_alpha)\n",
    "print('Best RMSE score on test data: %d' %min(rmse_test))"
   ]
  },
  {
   "cell_type": "markdown",
   "metadata": {},
   "source": [
    "**Feature importance**"
   ]
  },
  {
   "cell_type": "code",
   "execution_count": 493,
   "metadata": {},
   "outputs": [
    {
     "data": {
      "image/png": "[encoded data removed]",
      "text/plain": [
       "<Figure size 432x288 with 1 Axes>"
      ]
     },
     "metadata": {
      "needs_background": "light"
     },
     "output_type": "display_data"
    }
   ],
   "source": [
    "#load best model\n",
    "filename = 'poly_ridge_regression_model_degree_3_'+str(526)+'.pkl'\n",
    "loaded_model = pickle.load(open(filename, 'rb'))\n",
    "\n",
    "#feature importance\n",
    "coefficients = loaded_model.coef_\n",
    "feature_importance = sorted(zip(coefficients, attributes), reverse=True)\n",
    "weight, attribute = zip(*feature_importance)\n",
    "\n",
    "#plot feature importance\n",
    "feat_importances = pd.Series(weight, index=attribute)\n",
    "feat_importances.nlargest(10).sort_values().plot(kind='barh', title ='Feature importance');"
   ]
  },
  {
   "cell_type": "markdown",
   "metadata": {},
   "source": [
    "**Lasso regression**"
   ]
  },
  {
   "cell_type": "code",
   "execution_count": 476,
   "metadata": {},
   "outputs": [
    {
     "name": "stderr",
     "output_type": "stream",
     "text": [
      "/opt/anaconda/envs/Python3/lib/python3.8/site-packages/sklearn/linear_model/_coordinate_descent.py:512: ConvergenceWarning: Objective did not converge. You might want to increase the number of iterations. Duality gap: 7843971296.690764, tolerance: 9352382.06166533\n",
      "  model = cd_fast.sparse_enet_coordinate_descent(\n"
     ]
    },
    {
     "data": {
      "text/plain": [
       "Lasso(alpha=1)"
      ]
     },
     "execution_count": 476,
     "metadata": {},
     "output_type": "execute_result"
    },
    {
     "name": "stdout",
     "output_type": "stream",
     "text": [
      "-----------------------------------\n",
      "Train evaluation\n",
      "Model Performance:\n",
      "MAE: 846.04\n",
      "RMSE: 1548.48\n",
      "R2: 92.23 %\n",
      "Test evaluation\n",
      "Model Performance:\n",
      "MAE: 3538.69\n",
      "RMSE: 6365.97\n",
      "R2: -41.61 %\n"
     ]
    },
    {
     "name": "stderr",
     "output_type": "stream",
     "text": [
      "/opt/anaconda/envs/Python3/lib/python3.8/site-packages/sklearn/linear_model/_coordinate_descent.py:512: ConvergenceWarning: Objective did not converge. You might want to increase the number of iterations. Duality gap: 24382200123.785812, tolerance: 9352382.06166533\n",
      "  model = cd_fast.sparse_enet_coordinate_descent(\n"
     ]
    },
    {
     "data": {
      "text/plain": [
       "Lasso(alpha=26)"
      ]
     },
     "execution_count": 476,
     "metadata": {},
     "output_type": "execute_result"
    },
    {
     "name": "stdout",
     "output_type": "stream",
     "text": [
      "-----------------------------------\n",
      "Train evaluation\n",
      "Model Performance:\n",
      "MAE: 2085.52\n",
      "RMSE: 3722.78\n",
      "R2: 55.1 %\n",
      "Test evaluation\n",
      "Model Performance:\n",
      "MAE: 2416.67\n",
      "RMSE: 4661.76\n",
      "R2: 24.06 %\n"
     ]
    },
    {
     "name": "stderr",
     "output_type": "stream",
     "text": [
      "/opt/anaconda/envs/Python3/lib/python3.8/site-packages/sklearn/linear_model/_coordinate_descent.py:512: ConvergenceWarning: Objective did not converge. You might want to increase the number of iterations. Duality gap: 27126979116.325188, tolerance: 9352382.06166533\n",
      "  model = cd_fast.sparse_enet_coordinate_descent(\n"
     ]
    },
    {
     "data": {
      "text/plain": [
       "Lasso(alpha=51)"
      ]
     },
     "execution_count": 476,
     "metadata": {},
     "output_type": "execute_result"
    },
    {
     "name": "stdout",
     "output_type": "stream",
     "text": [
      "-----------------------------------\n",
      "Train evaluation\n",
      "Model Performance:\n",
      "MAE: 2207.25\n",
      "RMSE: 3969.02\n",
      "R2: 48.96 %\n",
      "Test evaluation\n",
      "Model Performance:\n",
      "MAE: 2371.58\n",
      "RMSE: 4452.48\n",
      "R2: 30.73 %\n"
     ]
    },
    {
     "name": "stderr",
     "output_type": "stream",
     "text": [
      "/opt/anaconda/envs/Python3/lib/python3.8/site-packages/sklearn/linear_model/_coordinate_descent.py:512: ConvergenceWarning: Objective did not converge. You might want to increase the number of iterations. Duality gap: 28845317764.330666, tolerance: 9352382.06166533\n",
      "  model = cd_fast.sparse_enet_coordinate_descent(\n"
     ]
    },
    {
     "data": {
      "text/plain": [
       "Lasso(alpha=76)"
      ]
     },
     "execution_count": 476,
     "metadata": {},
     "output_type": "execute_result"
    },
    {
     "name": "stdout",
     "output_type": "stream",
     "text": [
      "-----------------------------------\n",
      "Train evaluation\n",
      "Model Performance:\n",
      "MAE: 2278.32\n",
      "RMSE: 4080.13\n",
      "R2: 46.07 %\n",
      "Test evaluation\n",
      "Model Performance:\n",
      "MAE: 2363.98\n",
      "RMSE: 4375.68\n",
      "R2: 33.1 %\n"
     ]
    },
    {
     "name": "stderr",
     "output_type": "stream",
     "text": [
      "/opt/anaconda/envs/Python3/lib/python3.8/site-packages/sklearn/linear_model/_coordinate_descent.py:512: ConvergenceWarning: Objective did not converge. You might want to increase the number of iterations. Duality gap: 29914250370.814346, tolerance: 9352382.06166533\n",
      "  model = cd_fast.sparse_enet_coordinate_descent(\n"
     ]
    },
    {
     "data": {
      "text/plain": [
       "Lasso(alpha=101)"
      ]
     },
     "execution_count": 476,
     "metadata": {},
     "output_type": "execute_result"
    },
    {
     "name": "stdout",
     "output_type": "stream",
     "text": [
      "-----------------------------------\n",
      "Train evaluation\n",
      "Model Performance:\n",
      "MAE: 2351.07\n",
      "RMSE: 4185.42\n",
      "R2: 43.25 %\n",
      "Test evaluation\n",
      "Model Performance:\n",
      "MAE: 2388.83\n",
      "RMSE: 4365.86\n",
      "R2: 33.4 %\n"
     ]
    },
    {
     "name": "stderr",
     "output_type": "stream",
     "text": [
      "/opt/anaconda/envs/Python3/lib/python3.8/site-packages/sklearn/linear_model/_coordinate_descent.py:512: ConvergenceWarning: Objective did not converge. You might want to increase the number of iterations. Duality gap: 30706074607.14062, tolerance: 9352382.06166533\n",
      "  model = cd_fast.sparse_enet_coordinate_descent(\n"
     ]
    },
    {
     "data": {
      "text/plain": [
       "Lasso(alpha=126)"
      ]
     },
     "execution_count": 476,
     "metadata": {},
     "output_type": "execute_result"
    },
    {
     "name": "stdout",
     "output_type": "stream",
     "text": [
      "-----------------------------------\n",
      "Train evaluation\n",
      "Model Performance:\n",
      "MAE: 2417.67\n",
      "RMSE: 4272.50\n",
      "R2: 40.86 %\n",
      "Test evaluation\n",
      "Model Performance:\n",
      "MAE: 2424.58\n",
      "RMSE: 4373.72\n",
      "R2: 33.16 %\n"
     ]
    },
    {
     "name": "stderr",
     "output_type": "stream",
     "text": [
      "/opt/anaconda/envs/Python3/lib/python3.8/site-packages/sklearn/linear_model/_coordinate_descent.py:512: ConvergenceWarning: Objective did not converge. You might want to increase the number of iterations. Duality gap: 31048264717.99693, tolerance: 9352382.06166533\n",
      "  model = cd_fast.sparse_enet_coordinate_descent(\n"
     ]
    },
    {
     "data": {
      "text/plain": [
       "Lasso(alpha=151)"
      ]
     },
     "execution_count": 476,
     "metadata": {},
     "output_type": "execute_result"
    },
    {
     "name": "stdout",
     "output_type": "stream",
     "text": [
      "-----------------------------------\n",
      "Train evaluation\n",
      "Model Performance:\n",
      "MAE: 2474.61\n",
      "RMSE: 4342.38\n",
      "R2: 38.91 %\n",
      "Test evaluation\n",
      "Model Performance:\n",
      "MAE: 2460.63\n",
      "RMSE: 4395.16\n",
      "R2: 32.5 %\n"
     ]
    },
    {
     "name": "stderr",
     "output_type": "stream",
     "text": [
      "/opt/anaconda/envs/Python3/lib/python3.8/site-packages/sklearn/linear_model/_coordinate_descent.py:512: ConvergenceWarning: Objective did not converge. You might want to increase the number of iterations. Duality gap: 31059858538.96495, tolerance: 9352382.06166533\n",
      "  model = cd_fast.sparse_enet_coordinate_descent(\n"
     ]
    },
    {
     "data": {
      "text/plain": [
       "Lasso(alpha=176)"
      ]
     },
     "execution_count": 476,
     "metadata": {},
     "output_type": "execute_result"
    },
    {
     "name": "stdout",
     "output_type": "stream",
     "text": [
      "-----------------------------------\n",
      "Train evaluation\n",
      "Model Performance:\n",
      "MAE: 2513.63\n",
      "RMSE: 4381.05\n",
      "R2: 37.82 %\n",
      "Test evaluation\n",
      "Model Performance:\n",
      "MAE: 2496.40\n",
      "RMSE: 4411.17\n",
      "R2: 32.01 %\n"
     ]
    },
    {
     "name": "stderr",
     "output_type": "stream",
     "text": [
      "/opt/anaconda/envs/Python3/lib/python3.8/site-packages/sklearn/linear_model/_coordinate_descent.py:512: ConvergenceWarning: Objective did not converge. You might want to increase the number of iterations. Duality gap: 30786348426.175262, tolerance: 9352382.06166533\n",
      "  model = cd_fast.sparse_enet_coordinate_descent(\n"
     ]
    },
    {
     "data": {
      "text/plain": [
       "Lasso(alpha=201)"
      ]
     },
     "execution_count": 476,
     "metadata": {},
     "output_type": "execute_result"
    },
    {
     "name": "stdout",
     "output_type": "stream",
     "text": [
      "-----------------------------------\n",
      "Train evaluation\n",
      "Model Performance:\n",
      "MAE: 2554.70\n",
      "RMSE: 4420.13\n",
      "R2: 36.7 %\n",
      "Test evaluation\n",
      "Model Performance:\n",
      "MAE: 2537.29\n",
      "RMSE: 4435.34\n",
      "R2: 31.26 %\n"
     ]
    },
    {
     "name": "stderr",
     "output_type": "stream",
     "text": [
      "/opt/anaconda/envs/Python3/lib/python3.8/site-packages/sklearn/linear_model/_coordinate_descent.py:512: ConvergenceWarning: Objective did not converge. You might want to increase the number of iterations. Duality gap: 30152536559.925323, tolerance: 9352382.06166533\n",
      "  model = cd_fast.sparse_enet_coordinate_descent(\n"
     ]
    },
    {
     "data": {
      "text/plain": [
       "Lasso(alpha=226)"
      ]
     },
     "execution_count": 476,
     "metadata": {},
     "output_type": "execute_result"
    },
    {
     "name": "stdout",
     "output_type": "stream",
     "text": [
      "-----------------------------------\n",
      "Train evaluation\n",
      "Model Performance:\n",
      "MAE: 2594.35\n",
      "RMSE: 4454.94\n",
      "R2: 35.7 %\n",
      "Test evaluation\n",
      "Model Performance:\n",
      "MAE: 2575.92\n",
      "RMSE: 4461.79\n",
      "R2: 30.44 %\n"
     ]
    }
   ],
   "source": [
    "#create list to collect every RMSE score for plotting\n",
    "rmse_train = []\n",
    "rmse_test = []\n",
    "\n",
    "#create list of alpha values for regularisation weight\n",
    "alpha_values = [i for i in range(1, 250, 25)]\n",
    "\n",
    "#create polynomial features\n",
    "poly_features = PolynomialFeatures(degree=3)\n",
    "    \n",
    "#fit data\n",
    "x_train_poly = poly_features.fit_transform(x_train)\n",
    "x_test_poly = poly_features.transform(x_test)\n",
    "\n",
    "\n",
    "for alpha in alpha_values:\n",
    "    \n",
    "    #create laso regression with corresponding alpha value\n",
    "    poly_lasso = Lasso(alpha=alpha)\n",
    "    poly_lasso.fit(x_train_poly, y_train)\n",
    "    \n",
    "    train_predictions = poly_lasso.predict(x_train_poly)\n",
    "    test_predictions = poly_lasso.predict(x_test_poly)\n",
    "    \n",
    "    #store model locally\n",
    "    pkl_filename = 'poly_lasso_regression_model_degree_3_' + str(round(alpha, 5)) + '.pkl'  \n",
    "\n",
    "    with open(pkl_filename, 'wb') as file:  \n",
    "        pickle.dump(poly_lasso, file)\n",
    "    \n",
    "    #evaluate on train and test data\n",
    "    print('-----------------------------------')\n",
    "    print('Train evaluation')\n",
    "    evaluate(poly_lasso, x_train_poly, y_train)\n",
    "    print('Test evaluation')\n",
    "    evaluate(poly_lasso, x_test_poly, y_test)\n",
    "    \n",
    "    #compute predictions for visualisation\n",
    "    train_predictions = poly_lasso.predict(x_train_poly)\n",
    "    test_predictions = poly_lasso.predict(x_test_poly)\n",
    "    \n",
    "    #collect rmse scores into list\n",
    "    rmse_train.append(np.sqrt(mean_squared_error(y_train, train_predictions)))\n",
    "    rmse_test.append(np.sqrt(mean_squared_error(y_test, test_predictions)))"
   ]
  },
  {
   "cell_type": "markdown",
   "metadata": {},
   "source": [
    "**Visualised results**"
   ]
  },
  {
   "cell_type": "code",
   "execution_count": 477,
   "metadata": {
    "scrolled": true
   },
   "outputs": [
    {
     "data": {
      "image/png": "[encoded data removed]",
      "text/plain": [
       "<Figure size 576x360 with 1 Axes>"
      ]
     },
     "metadata": {
      "needs_background": "light"
     },
     "output_type": "display_data"
    }
   ],
   "source": [
    "#create visualisation \n",
    "fig, ax = plt.subplots(figsize = (8,5));\n",
    "ax.plot(alpha_values, rmse_train, label=\"Training error\");\n",
    "ax.plot(alpha_values, rmse_test, label=\"Testing error\");\n",
    "plt.xlabel(\"$Alpha$\", fontsize=18);\n",
    "plt.ylabel(\"$RMSE$\", fontsize=18);\n",
    "plt.title(\"RMSE scores\", fontsize=18);\n",
    "ax.legend();\n",
    "plt.show();"
   ]
  },
  {
   "cell_type": "markdown",
   "metadata": {},
   "source": [
    "**Interpretation**"
   ]
  },
  {
   "cell_type": "markdown",
   "metadata": {},
   "source": [
    "The lasso regression shows a very similar behaviour compared to the ridge regression. The testing error starts to decrease meaning that the regularisation works and reaches the plateau in the middle of the $\\alpha$ range. The calculation below identifies the optimal $\\alpha$ value and shows the corresponding testing error. Since lasso regression is able to shrink coefficients to zero, we also evaluate how many coefficients got penalised that much. Feature importance is also shown in the end."
   ]
  },
  {
   "cell_type": "code",
   "execution_count": 484,
   "metadata": {},
   "outputs": [
    {
     "name": "stdout",
     "output_type": "stream",
     "text": [
      "Optimal alpha value: 101\n",
      "Best RMSE score on test data: 4365\n"
     ]
    }
   ],
   "source": [
    "#identify index of smallest RMSE score\n",
    "min_rmse_test = np.array(np.where(rmse_test == min(rmse_test)))\n",
    "\n",
    "#identify optimal alpha value by using previous index position\n",
    "optimal_alpha = alpha_values[int(min_rmse_test)]\n",
    "print('Optimal alpha value: %d' %optimal_alpha)\n",
    "print('Best RMSE score on test data: %d' %min(rmse_test))"
   ]
  },
  {
   "cell_type": "code",
   "execution_count": 489,
   "metadata": {},
   "outputs": [
    {
     "name": "stdout",
     "output_type": "stream",
     "text": [
      "Number of coefficients shrunken to zero: 1299251\n",
      "Percentage of coefficients shrunken to zero: 0.67\n"
     ]
    }
   ],
   "source": [
    "#count how many coefficients are shrunken to zero\n",
    "count = 0\n",
    "for i in loaded_model.coef_:\n",
    "    if i == 0:\n",
    "        count += 1\n",
    "\n",
    "print('Number of coefficients shrunken to zero: %d' %count)\n",
    "print('Percentage of coefficients shrunken to zero: {:0.2f}' .format(count/len(loaded_model.coef_)))"
   ]
  },
  {
   "cell_type": "markdown",
   "metadata": {},
   "source": [
    "**Feature importance**"
   ]
  },
  {
   "cell_type": "code",
   "execution_count": 485,
   "metadata": {},
   "outputs": [
    {
     "data": {
      "image/png": "[encoded data removed]",
      "text/plain": [
       "<Figure size 432x288 with 1 Axes>"
      ]
     },
     "metadata": {
      "needs_background": "light"
     },
     "output_type": "display_data"
    }
   ],
   "source": [
    "#load best model\n",
    "filename = 'poly_lasso_regression_model_degree_3_'+str(optimal_alpha)+'.pkl'\n",
    "loaded_model = pickle.load(open(filename, 'rb'))\n",
    "\n",
    "#feature importance\n",
    "coefficients = loaded_model.coef_\n",
    "feature_importance = sorted(zip(coefficients, attributes), reverse=True)\n",
    "weight, attribute = zip(*feature_importance)\n",
    "\n",
    "#plot feature importance\n",
    "feat_importances = pd.Series(weight, index=attribute)\n",
    "feat_importances.nlargest(10).sort_values().plot(kind='barh', title ='Feature importance');"
   ]
  },
  {
   "cell_type": "markdown",
   "metadata": {},
   "source": [
    "### 5d. SVM Regression"
   ]
  },
  {
   "cell_type": "markdown",
   "metadata": {},
   "source": [
    "SVM offers more parameters than the previous models to optimise hyperparameter. Available parameters:\n",
    "\n",
    "- **Degree**: number of the degree for the polynomial model\n",
    "- **Epsilon**: margin of error\n",
    "- **C**: regularisation weight \n",
    "\n",
    "We neglect `random` or `grid search` since the variety of parameters is not that large. For finding the optimal degree, we use the range around 3 since those can be reasonable degrees given previous polynomial calculations and treat `C` as a constant. After this, we find the optimal value for `C` by using the identified degree from the previous calculation. For every iteration, we set the margin error $\\epsilon$ to `0.5`.\n",
    "\n",
    "**Note:** the strength of the regularisation is inversely proportional to C."
   ]
  },
  {
   "cell_type": "markdown",
   "metadata": {},
   "source": [
    "**Find optimal polynomial degree**"
   ]
  },
  {
   "cell_type": "code",
   "execution_count": 533,
   "metadata": {},
   "outputs": [
    {
     "data": {
      "text/plain": [
       "SVR(C=100, degree=2, epsilon=0.5, kernel='poly')"
      ]
     },
     "execution_count": 533,
     "metadata": {},
     "output_type": "execute_result"
    },
    {
     "name": "stdout",
     "output_type": "stream",
     "text": [
      "-----------------------------------\n",
      "Train evaluation\n",
      "Model Performance:\n",
      "MAE: 2259.62\n",
      "RMSE: 4593.17\n",
      "R2: 31.65 %\n",
      "Test evaluation\n",
      "Model Performance:\n",
      "MAE: 2173.69\n",
      "RMSE: 4448.75\n",
      "R2: 30.84 %\n"
     ]
    },
    {
     "data": {
      "text/plain": [
       "SVR(C=100, epsilon=0.5, kernel='poly')"
      ]
     },
     "execution_count": 533,
     "metadata": {},
     "output_type": "execute_result"
    },
    {
     "name": "stdout",
     "output_type": "stream",
     "text": [
      "-----------------------------------\n",
      "Train evaluation\n",
      "Model Performance:\n",
      "MAE: 2206.17\n",
      "RMSE: 4543.48\n",
      "R2: 33.12 %\n",
      "Test evaluation\n",
      "Model Performance:\n",
      "MAE: 2158.53\n",
      "RMSE: 4426.94\n",
      "R2: 31.52 %\n"
     ]
    },
    {
     "data": {
      "text/plain": [
       "SVR(C=100, degree=4, epsilon=0.5, kernel='poly')"
      ]
     },
     "execution_count": 533,
     "metadata": {},
     "output_type": "execute_result"
    },
    {
     "name": "stdout",
     "output_type": "stream",
     "text": [
      "-----------------------------------\n",
      "Train evaluation\n",
      "Model Performance:\n",
      "MAE: 2162.84\n",
      "RMSE: 4519.99\n",
      "R2: 33.81 %\n",
      "Test evaluation\n",
      "Model Performance:\n",
      "MAE: 2143.87\n",
      "RMSE: 4404.30\n",
      "R2: 32.22 %\n"
     ]
    },
    {
     "data": {
      "text/plain": [
       "SVR(C=100, degree=5, epsilon=0.5, kernel='poly')"
      ]
     },
     "execution_count": 533,
     "metadata": {},
     "output_type": "execute_result"
    },
    {
     "name": "stdout",
     "output_type": "stream",
     "text": [
      "-----------------------------------\n",
      "Train evaluation\n",
      "Model Performance:\n",
      "MAE: 2119.53\n",
      "RMSE: 4490.33\n",
      "R2: 34.68 %\n",
      "Test evaluation\n",
      "Model Performance:\n",
      "MAE: 2145.87\n",
      "RMSE: 4412.32\n",
      "R2: 31.97 %\n"
     ]
    }
   ],
   "source": [
    "#create list to collect every RMSE score for plotting\n",
    "rmse_train = []\n",
    "rmse_test = []\n",
    "\n",
    "#initial degrees to be used\n",
    "degrees = [2, 3, 4, 5]\n",
    "\n",
    "for degree in degrees:\n",
    "\n",
    "    #create svm regression model\n",
    "    svm = SVR(kernel='poly', degree=degree, C=100, epsilon=0.5);\n",
    "    svm.fit(x_train, y_train);\n",
    "    \n",
    "    #store model locally\n",
    "    pkl_filename = 'svm_regression_model_degree_' + str(degree) + '.pkl' \n",
    "\n",
    "    with open(pkl_filename, 'wb') as file:  \n",
    "            pickle.dump(svm, file)\n",
    "        \n",
    "    #evaluate on train and test data\n",
    "    print('-----------------------------------')\n",
    "    print('Train evaluation')\n",
    "    evaluate(svm, x_train, y_train)\n",
    "    print('Test evaluation')\n",
    "    evaluate(svm, x_test, y_test)\n",
    "    \n",
    "    #compute predictions for visualisation\n",
    "    train_predictions = svm.predict(x_train)\n",
    "    test_predictions = svm.predict(x_test)\n",
    "    \n",
    "    #collect rmse scores into list\n",
    "    rmse_train.append(np.sqrt(mean_squared_error(y_train, train_predictions)))\n",
    "    rmse_test.append(np.sqrt(mean_squared_error(y_test, test_predictions)))"
   ]
  },
  {
   "cell_type": "code",
   "execution_count": 534,
   "metadata": {},
   "outputs": [
    {
     "name": "stdout",
     "output_type": "stream",
     "text": [
      "Optimal degree: 4\n"
     ]
    }
   ],
   "source": [
    "#identify index of smallest RMSE score on test data\n",
    "min_rmse_test = np.array(np.where(rmse_test == min(rmse_test)))\n",
    "\n",
    "#identify optimal degree by using previous index position\n",
    "optimal_degree = degrees[int(min_rmse_test)]\n",
    "print('Optimal degree: %d' %optimal_degree)"
   ]
  },
  {
   "cell_type": "markdown",
   "metadata": {},
   "source": [
    "**Find optimal C-value**"
   ]
  },
  {
   "cell_type": "code",
   "execution_count": 538,
   "metadata": {},
   "outputs": [
    {
     "data": {
      "text/plain": [
       "SVR(C=1, degree=4, epsilon=0.5, kernel='poly')"
      ]
     },
     "execution_count": 538,
     "metadata": {},
     "output_type": "execute_result"
    },
    {
     "data": {
      "text/plain": [
       "SVR(C=51, degree=4, epsilon=0.5, kernel='poly')"
      ]
     },
     "execution_count": 538,
     "metadata": {},
     "output_type": "execute_result"
    },
    {
     "data": {
      "text/plain": [
       "SVR(C=101, degree=4, epsilon=0.5, kernel='poly')"
      ]
     },
     "execution_count": 538,
     "metadata": {},
     "output_type": "execute_result"
    },
    {
     "data": {
      "text/plain": [
       "SVR(C=151, degree=4, epsilon=0.5, kernel='poly')"
      ]
     },
     "execution_count": 538,
     "metadata": {},
     "output_type": "execute_result"
    },
    {
     "data": {
      "text/plain": [
       "SVR(C=201, degree=4, epsilon=0.5, kernel='poly')"
      ]
     },
     "execution_count": 538,
     "metadata": {},
     "output_type": "execute_result"
    },
    {
     "data": {
      "text/plain": [
       "SVR(C=251, degree=4, epsilon=0.5, kernel='poly')"
      ]
     },
     "execution_count": 538,
     "metadata": {},
     "output_type": "execute_result"
    },
    {
     "data": {
      "text/plain": [
       "SVR(C=301, degree=4, epsilon=0.5, kernel='poly')"
      ]
     },
     "execution_count": 538,
     "metadata": {},
     "output_type": "execute_result"
    },
    {
     "data": {
      "text/plain": [
       "SVR(C=351, degree=4, epsilon=0.5, kernel='poly')"
      ]
     },
     "execution_count": 538,
     "metadata": {},
     "output_type": "execute_result"
    },
    {
     "data": {
      "text/plain": [
       "SVR(C=401, degree=4, epsilon=0.5, kernel='poly')"
      ]
     },
     "execution_count": 538,
     "metadata": {},
     "output_type": "execute_result"
    },
    {
     "data": {
      "text/plain": [
       "SVR(C=451, degree=4, epsilon=0.5, kernel='poly')"
      ]
     },
     "execution_count": 538,
     "metadata": {},
     "output_type": "execute_result"
    },
    {
     "data": {
      "text/plain": [
       "SVR(C=501, degree=4, epsilon=0.5, kernel='poly')"
      ]
     },
     "execution_count": 538,
     "metadata": {},
     "output_type": "execute_result"
    },
    {
     "data": {
      "text/plain": [
       "SVR(C=551, degree=4, epsilon=0.5, kernel='poly')"
      ]
     },
     "execution_count": 538,
     "metadata": {},
     "output_type": "execute_result"
    },
    {
     "data": {
      "text/plain": [
       "SVR(C=601, degree=4, epsilon=0.5, kernel='poly')"
      ]
     },
     "execution_count": 538,
     "metadata": {},
     "output_type": "execute_result"
    },
    {
     "data": {
      "text/plain": [
       "SVR(C=651, degree=4, epsilon=0.5, kernel='poly')"
      ]
     },
     "execution_count": 538,
     "metadata": {},
     "output_type": "execute_result"
    },
    {
     "data": {
      "text/plain": [
       "SVR(C=701, degree=4, epsilon=0.5, kernel='poly')"
      ]
     },
     "execution_count": 538,
     "metadata": {},
     "output_type": "execute_result"
    },
    {
     "data": {
      "text/plain": [
       "SVR(C=751, degree=4, epsilon=0.5, kernel='poly')"
      ]
     },
     "execution_count": 538,
     "metadata": {},
     "output_type": "execute_result"
    },
    {
     "data": {
      "text/plain": [
       "SVR(C=801, degree=4, epsilon=0.5, kernel='poly')"
      ]
     },
     "execution_count": 538,
     "metadata": {},
     "output_type": "execute_result"
    },
    {
     "data": {
      "text/plain": [
       "SVR(C=851, degree=4, epsilon=0.5, kernel='poly')"
      ]
     },
     "execution_count": 538,
     "metadata": {},
     "output_type": "execute_result"
    },
    {
     "data": {
      "text/plain": [
       "SVR(C=901, degree=4, epsilon=0.5, kernel='poly')"
      ]
     },
     "execution_count": 538,
     "metadata": {},
     "output_type": "execute_result"
    },
    {
     "data": {
      "text/plain": [
       "SVR(C=951, degree=4, epsilon=0.5, kernel='poly')"
      ]
     },
     "execution_count": 538,
     "metadata": {},
     "output_type": "execute_result"
    }
   ],
   "source": [
    "#create list to collect every RMSE score for plotting\n",
    "rmse_train = []\n",
    "rmse_test = []\n",
    "\n",
    "#create values for regularisation weight\n",
    "c_values = [x for x in range(1,1000,50)]\n",
    "\n",
    "for C in c_values:\n",
    "    \n",
    "    #create svm regression model\n",
    "    svm = SVR(kernel='poly', degree=4, C=C, epsilon=0.5);\n",
    "    svm.fit(x_train, y_train);\n",
    "    \n",
    "    #store model locally\n",
    "    pkl_filename = 'svm_regression_model_degree_4_' + str(C) + '.pkl' \n",
    "\n",
    "    with open(pkl_filename, 'wb') as file:  \n",
    "        pickle.dump(svm, file)\n",
    "    \n",
    "    #compute predictions for visualisation\n",
    "    train_predictions = svm.predict(x_train);\n",
    "    test_predictions = svm.predict(x_test);\n",
    "    \n",
    "    #collect rmse scores into list\n",
    "    rmse_train.append(np.sqrt(mean_squared_error(y_train, train_predictions)))\n",
    "    rmse_test.append(np.sqrt(mean_squared_error(y_test, test_predictions)))"
   ]
  },
  {
   "cell_type": "markdown",
   "metadata": {},
   "source": [
    "**Visualised results**"
   ]
  },
  {
   "cell_type": "code",
   "execution_count": 539,
   "metadata": {},
   "outputs": [
    {
     "data": {
      "image/png": "[encoded data removed]",
      "text/plain": [
       "<Figure size 576x360 with 1 Axes>"
      ]
     },
     "metadata": {
      "needs_background": "light"
     },
     "output_type": "display_data"
    }
   ],
   "source": [
    "#create visualisation \n",
    "fig, ax = plt.subplots(figsize = (8,5));\n",
    "ax.plot(c_values, rmse_train, label=\"Training error\");\n",
    "ax.plot(c_values, rmse_test, label=\"Testing error\");\n",
    "plt.xlabel(\"$C$\", fontsize=18);\n",
    "plt.ylabel(\"$RMSE$\", fontsize=18);\n",
    "plt.title(\"RMSE scores\", fontsize=18);\n",
    "ax.legend();\n",
    "plt.show();"
   ]
  },
  {
   "cell_type": "markdown",
   "metadata": {},
   "source": [
    "**Interpretation**"
   ]
  },
  {
   "cell_type": "markdown",
   "metadata": {},
   "source": [
    "Both the training and testing error decrease drastically in the beginning by increasing the `C` value. This is because the reduction in variance is larger than the addition of a bias. After a certain degree, the testing error reaches the plateau, on which the optimal `C`-value lies. The calculation below identifies the optimal value and shows the corresponding testing error. The training error keeps to fall. **However, it is important here to know that the strength of the regularisation is inversely proportional to C.** Coefficients for feature importance cannot be shown since they are only available when using a linear kernel. "
   ]
  },
  {
   "cell_type": "code",
   "execution_count": 537,
   "metadata": {},
   "outputs": [
    {
     "name": "stdout",
     "output_type": "stream",
     "text": [
      "Optimal regularisation weight (C): 501\n",
      "Best RMSE score on test data: 4210\n"
     ]
    }
   ],
   "source": [
    "#identify index of smallest RMSE score\n",
    "min_rmse_test = np.array(np.where(rmse_test == min(rmse_test)))\n",
    "\n",
    "#identify optimal C by using previous index position\n",
    "optimal_c = c_values[int(min_rmse_test)]\n",
    "print('Optimal regularisation weight (C): %d' %optimal_c)\n",
    "print('Best RMSE score on test data: %d' %min(rmse_test))"
   ]
  },
  {
   "cell_type": "markdown",
   "metadata": {},
   "source": [
    "## 6. Conclusion"
   ]
  },
  {
   "cell_type": "markdown",
   "metadata": {},
   "source": [
    "All used models have achieved certain prediction power. The simple linear regression model was considered to be the base model given the nature to only fit a strict linear line. However, higher-degree model did not really improve the prediction power. The polynomial regression models have shown to fit the train data very well even though only using a few degrees. However, running them on test set showed their extreme overfitting problem. Introducing regularised models with `ridge` and `lasso regression` techniques helped to reduce the variance for a certrain degree, but reveiled underfitting problems. In the case of the ridge regression, it even scored a worse score than the linear model. The SVM regression model did improve the performance only marginally.\n",
    "\n",
    "**Models:**\n",
    "1. Linear regression model: 4425 RMSE score\n",
    "2. Best ridge regression model: 4517 RMSE score\n",
    "3. Best lasso regression model: 4365 RMSE score\n",
    "4. Best SVM regression model: 4219 RMSE score\n",
    "\n",
    "Considering a possible value range most likely between `1,000` and `15,000 US-Dollars` for `total_cost`, the scores of the shortlisted models are not very satisfying. Models of this nature could be rather applied to run a forecast trends with certain margin, instead of accurate predictions that are used for cost-expensive decision making.\n",
    "\n",
    "Furthermore, the results also show that these rather simple models are not sufficient enough to explain the entire noisiness of the underlying data set. Escpecially, considering the small datasize compared to the number of encoded attributes in this case, it is very tricky to build reliable models based on the simple model stack provided up to chapter 5. Besides appyling more sophisticated models, collecting more `historical data points` or getting new attributes, such as `season time` can also be very helpful to improve the models used in this work. "
   ]
  },
  {
   "cell_type": "code",
   "execution_count": null,
   "metadata": {},
   "outputs": [],
   "source": []
  }
 ],
 "metadata": {
  "kernelspec": {
   "display_name": "Python 3",
   "language": "python",
   "name": "python3"
  },
  "language_info": {
   "codemirror_mode": {
    "name": "ipython",
    "version": 3
   },
   "file_extension": ".py",
   "mimetype": "text/x-python",
   "name": "python",
   "nbconvert_exporter": "python",
   "pygments_lexer": "ipython3",
   "version": "3.8.3"
  }
 },
 "nbformat": 4,
 "nbformat_minor": 4
}
